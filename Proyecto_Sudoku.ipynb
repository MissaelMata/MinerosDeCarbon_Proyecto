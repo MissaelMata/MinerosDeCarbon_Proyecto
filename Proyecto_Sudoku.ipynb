{
 "cells": [
  {
   "cell_type": "code",
   "execution_count": 1,
   "metadata": {},
   "outputs": [],
   "source": [
    "grip = [\n",
    "    [0,0,0,0,5,0,0,4,9],\n",
    "    [0,0,0,0,7,3,8,5,0],\n",
    "    [3,0,0,0,0,0,0,0,0],\n",
    "    [0,0,0,0,0,0,0,0,0],\n",
    "    [8,9,3,1,0,0,2,0,4],\n",
    "    [6,0,0,3,9,0,5,0,0],\n",
    "    [0,4,0,6,2,0,0,0,0],\n",
    "    [0,0,6,8,0,9,0,0,0],\n",
    "    [1,0,0,0,0,0,0,0,0]\n",
    "]"
   ]
  },
  {
   "cell_type": "code",
   "execution_count": 2,
   "metadata": {},
   "outputs": [],
   "source": [
    "import numpy as np\n",
    "\n",
    "def posible(y,x,n):\n",
    "    global grip\n",
    "    for i in range(0,9):\n",
    "        if grip[y][i] == n:\n",
    "            return False\n",
    "    for i in range(0,9):\n",
    "        if grip[i][x] == n:\n",
    "            return False\n",
    "    x0 = (x//3)*3\n",
    "    y0 = (y//3)*3\n",
    "    for i in range(0,3):\n",
    "        for j in range(0,3):\n",
    "            if grip[y0+i][x0+j] == n:\n",
    "                return False\n",
    "    return True\n",
    "\n",
    "def solve():\n",
    "    global grip\n",
    "    for y in range(9):\n",
    "        for x in range(9):\n",
    "            if grip[y][x] == 0:\n",
    "                for n in range(1,10):\n",
    "                    if posible(y,x,n):\n",
    "                        grip[y][x] = n\n",
    "                        solve()\n",
    "                        grip[y][x] = 0\n",
    "                return\n",
    "    print(np.matrix(grip))"
   ]
  },
  {
   "cell_type": "code",
   "execution_count": 3,
   "metadata": {},
   "outputs": [
    {
     "name": "stdout",
     "output_type": "stream",
     "text": [
      "070000043040009610800634900094052000358460020000800530080070091902100005007040802\n",
      "[0, 7, 0, 0, 0, 0, 0, 4, 3]\n",
      "[0, 4, 0, 0, 0, 9, 6, 1, 0]\n",
      "[8, 0, 0, 6, 3, 4, 9, 0, 0]\n",
      "[0, 9, 4, 0, 5, 2, 0, 0, 0]\n",
      "[3, 5, 8, 4, 6, 0, 0, 2, 0]\n",
      "[0, 0, 0, 8, 0, 0, 5, 3, 0]\n",
      "[0, 8, 0, 0, 7, 0, 0, 9, 1]\n",
      "[9, 0, 2, 1, 0, 0, 0, 0, 5]\n",
      "[0, 0, 7, 0, 4, 0, 8, 0, 2]\n"
     ]
    }
   ],
   "source": [
    "import pandas as pd\n",
    "\n",
    "df = pd.read_csv('sudoku.csv',nrows=1)\n",
    "\n",
    "df = df['puzzle']\n",
    "\n",
    "\n",
    "table = []\n",
    "for idP, p in df.items():\n",
    "    print(p)\n",
    "    \n",
    "idx = 0\n",
    "for i in range(9):\n",
    "    row = []\n",
    "    for j in range(9):\n",
    "        row.append(int(p[idx]))\n",
    "        idx+=1\n",
    "    table.append(row)\n",
    "\n",
    "        \n",
    "for row in table:\n",
    "    print(row)\n",
    "    \n",
    "    \n",
    "grip = table\n"
   ]
  },
  {
   "cell_type": "code",
   "execution_count": 4,
   "metadata": {},
   "outputs": [
    {
     "name": "stdout",
     "output_type": "stream",
     "text": [
      "[[6 7 9 5 1 8 2 4 3]\n",
      " [5 4 3 7 2 9 6 1 8]\n",
      " [8 2 1 6 3 4 9 5 7]\n",
      " [7 9 4 3 5 2 1 8 6]\n",
      " [3 5 8 4 6 1 7 2 9]\n",
      " [2 1 6 8 9 7 5 3 4]\n",
      " [4 8 5 2 7 6 3 9 1]\n",
      " [9 6 2 1 8 3 4 7 5]\n",
      " [1 3 7 9 4 5 8 6 2]]\n"
     ]
    }
   ],
   "source": [
    "solve()"
   ]
  },
  {
   "cell_type": "code",
   "execution_count": 5,
   "metadata": {},
   "outputs": [],
   "source": [
    "grip1 = [\n",
    "    [1,2,3,4,5,6,7,8,9],\n",
    "    [2,3,4,5,6,7,8,9,1],\n",
    "    [3,4,5,6,7,8,9,1,2],\n",
    "    [4,5,6,7,8,9,1,2,3],\n",
    "    [5,6,7,8,9,1,2,3,4],\n",
    "    [6,7,8,9,1,2,3,4,5],\n",
    "    [7,8,9,1,2,3,4,5,6],\n",
    "    [8,9,1,2,3,4,5,6,7],\n",
    "    [9,1,2,3,4,5,6,7,8]\n",
    "]\n",
    "\n",
    "# extreme 27\n",
    "# easy    36\n",
    "# medium  31\n",
    "# hard    25"
   ]
  }
 ],
 "metadata": {
  "kernelspec": {
   "display_name": "Python 3",
   "language": "python",
   "name": "python3"
  },
  "language_info": {
   "codemirror_mode": {
    "name": "ipython",
    "version": 3
   },
   "file_extension": ".py",
   "mimetype": "text/x-python",
   "name": "python",
   "nbconvert_exporter": "python",
   "pygments_lexer": "ipython3",
   "version": "3.7.4"
  }
 },
 "nbformat": 4,
 "nbformat_minor": 4
}
